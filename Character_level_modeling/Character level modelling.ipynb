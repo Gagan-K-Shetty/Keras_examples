{
 "cells": [
  {
   "cell_type": "code",
   "execution_count": 1,
   "metadata": {},
   "outputs": [],
   "source": [
    "#preprocessing helper functions\n",
    "def load_doc(filename):\n",
    "    file = open(filename)\n",
    "    text = file.read()\n",
    "    file.close()\n",
    "    return text\n",
    "def preprocess(data):\n",
    "    return \" \".join(data.split())\n",
    "def create_sequence(data,length=10):\n",
    "    sequences = []\n",
    "    for i in range(length,len(dataset)):\n",
    "        sequences.append(dataset[i-length:i+1])\n",
    "    return sequences"
   ]
  },
  {
   "cell_type": "code",
   "execution_count": 2,
   "metadata": {},
   "outputs": [],
   "source": [
    "raw_data = load_doc(\"Data.txt\")\n",
    "dataset = preprocess(raw_data)\n",
    "sequences = create_sequence(data=dataset,length=30)"
   ]
  },
  {
   "cell_type": "code",
   "execution_count": 3,
   "metadata": {},
   "outputs": [
    {
     "name": "stdout",
     "output_type": "stream",
     "text": [
      "Vocab size is :  37\n"
     ]
    }
   ],
   "source": [
    "from sklearn.preprocessing import LabelEncoder\n",
    "le = LabelEncoder()\n",
    "le.fit(list(set(dataset)))\n",
    "vocabulary_size = len(le.classes_)\n",
    "print(\"Vocab size is : \",len(le.classes_))"
   ]
  },
  {
   "cell_type": "code",
   "execution_count": 4,
   "metadata": {},
   "outputs": [],
   "source": [
    "def integer_encode(sequences,label_encoder):\n",
    "    encoded_sequences=[]\n",
    "    for line in sequences:\n",
    "        encoded_sequences.append(list(label_encoder.transform(list(line))))\n",
    "    return encoded_sequences\n"
   ]
  },
  {
   "cell_type": "code",
   "execution_count": 5,
   "metadata": {},
   "outputs": [],
   "source": [
    "encoded_sequence = integer_encode(sequences,le)"
   ]
  },
  {
   "cell_type": "code",
   "execution_count": 6,
   "metadata": {},
   "outputs": [],
   "source": [
    "from numpy import array\n",
    "encoded_array = array(encoded_sequence)"
   ]
  },
  {
   "cell_type": "code",
   "execution_count": 7,
   "metadata": {},
   "outputs": [],
   "source": [
    "X ,Y = encoded_array[:,:-1],encoded_array[:,-1]"
   ]
  },
  {
   "cell_type": "code",
   "execution_count": 8,
   "metadata": {},
   "outputs": [
    {
     "name": "stderr",
     "output_type": "stream",
     "text": [
      "Using TensorFlow backend.\n"
     ]
    }
   ],
   "source": [
    "from keras.utils import to_categorical\n",
    "from keras.models import Sequential\n",
    "from keras.layers import Dense\n",
    "from keras.layers import LSTM"
   ]
  },
  {
   "cell_type": "code",
   "execution_count": 9,
   "metadata": {},
   "outputs": [
    {
     "data": {
      "text/plain": [
       "array([[0., 0., 0., ..., 0., 0., 0.],\n",
       "       [0., 0., 0., ..., 0., 0., 0.],\n",
       "       [0., 0., 0., ..., 0., 0., 0.],\n",
       "       ...,\n",
       "       [0., 0., 0., ..., 0., 0., 0.],\n",
       "       [0., 0., 0., ..., 0., 0., 0.],\n",
       "       [0., 0., 0., ..., 0., 0., 0.]])"
      ]
     },
     "execution_count": 9,
     "metadata": {},
     "output_type": "execute_result"
    }
   ],
   "source": [
    "x_data = array([to_categorical(x,num_classes=len(le.classes_)) for x in X])\n",
    "y_data = to_categorical(Y,num_classes=len(le.classes_))\n",
    "y_data"
   ]
  },
  {
   "cell_type": "code",
   "execution_count": 10,
   "metadata": {},
   "outputs": [
    {
     "name": "stdout",
     "output_type": "stream",
     "text": [
      "_________________________________________________________________\n",
      "Layer (type)                 Output Shape              Param #   \n",
      "=================================================================\n",
      "lstm_1 (LSTM)                (None, 75)                33900     \n",
      "_________________________________________________________________\n",
      "dense_1 (Dense)              (None, 37)                2812      \n",
      "=================================================================\n",
      "Total params: 36,712\n",
      "Trainable params: 36,712\n",
      "Non-trainable params: 0\n",
      "_________________________________________________________________\n",
      "None\n"
     ]
    }
   ],
   "source": [
    "# define model\n",
    "model = Sequential()\n",
    "model.add(LSTM(75, input_shape=(x_data.shape[1], x_data.shape[2])))\n",
    "model.add(Dense(vocabulary_size,activation=\"softmax\"))\n",
    "#model.add(Dense(vocabulary_size))\n",
    "model.compile(loss=\"categorical_crossentropy\", optimizer=\"adam\", metrics=[\"accuracy\"])\n",
    "print(model.summary())"
   ]
  },
  {
   "cell_type": "code",
   "execution_count": 11,
   "metadata": {},
   "outputs": [
    {
     "name": "stdout",
     "output_type": "stream",
     "text": [
      "Epoch 1/100\n",
      "379/379 [==============================] - 3s 7ms/step - loss: 3.5788 - acc: 0.1108\n",
      "Epoch 2/100\n",
      "379/379 [==============================] - 1s 2ms/step - loss: 3.2446 - acc: 0.1900\n",
      "Epoch 3/100\n",
      "379/379 [==============================] - 1s 2ms/step - loss: 3.0431 - acc: 0.1900\n",
      "Epoch 4/100\n",
      "379/379 [==============================] - 1s 2ms/step - loss: 3.0056 - acc: 0.1900\n",
      "Epoch 5/100\n",
      "379/379 [==============================] - 1s 2ms/step - loss: 2.9987 - acc: 0.1900\n",
      "Epoch 6/100\n",
      "379/379 [==============================] - 1s 2ms/step - loss: 2.9826 - acc: 0.1900\n",
      "Epoch 7/100\n",
      "379/379 [==============================] - 1s 2ms/step - loss: 2.9704 - acc: 0.1900\n",
      "Epoch 8/100\n",
      "379/379 [==============================] - 1s 2ms/step - loss: 2.9481 - acc: 0.1900\n",
      "Epoch 9/100\n",
      "379/379 [==============================] - 1s 2ms/step - loss: 2.9412 - acc: 0.1900\n",
      "Epoch 10/100\n",
      "379/379 [==============================] - 1s 2ms/step - loss: 2.9232 - acc: 0.1900\n",
      "Epoch 11/100\n",
      "379/379 [==============================] - 1s 2ms/step - loss: 2.9117 - acc: 0.1900\n",
      "Epoch 12/100\n",
      "379/379 [==============================] - 1s 3ms/step - loss: 2.8824 - acc: 0.1926\n",
      "Epoch 13/100\n",
      "379/379 [==============================] - 1s 2ms/step - loss: 2.8513 - acc: 0.1900\n",
      "Epoch 14/100\n",
      "379/379 [==============================] - 1s 2ms/step - loss: 2.8194 - acc: 0.2243\n",
      "Epoch 15/100\n",
      "379/379 [==============================] - 1s 2ms/step - loss: 2.7738 - acc: 0.2454\n",
      "Epoch 16/100\n",
      "379/379 [==============================] - 1s 3ms/step - loss: 2.7202 - acc: 0.2559\n",
      "Epoch 17/100\n",
      "379/379 [==============================] - 1s 2ms/step - loss: 2.6742 - acc: 0.2876\n",
      "Epoch 18/100\n",
      "379/379 [==============================] - 1s 2ms/step - loss: 2.6300 - acc: 0.2902\n",
      "Epoch 19/100\n",
      "379/379 [==============================] - 1s 3ms/step - loss: 2.5837 - acc: 0.3166\n",
      "Epoch 20/100\n",
      "379/379 [==============================] - 1s 2ms/step - loss: 2.5289 - acc: 0.3298\n",
      "Epoch 21/100\n",
      "379/379 [==============================] - 1s 2ms/step - loss: 2.4834 - acc: 0.3325\n",
      "Epoch 22/100\n",
      "379/379 [==============================] - 1s 2ms/step - loss: 2.4228 - acc: 0.3536\n",
      "Epoch 23/100\n",
      "379/379 [==============================] - 1s 2ms/step - loss: 2.3783 - acc: 0.3509\n",
      "Epoch 24/100\n",
      "379/379 [==============================] - 1s 2ms/step - loss: 2.3236 - acc: 0.3668\n",
      "Epoch 25/100\n",
      "379/379 [==============================] - 1s 2ms/step - loss: 2.2868 - acc: 0.3826\n",
      "Epoch 26/100\n",
      "379/379 [==============================] - 1s 2ms/step - loss: 2.2455 - acc: 0.3931\n",
      "Epoch 27/100\n",
      "379/379 [==============================] - 1s 2ms/step - loss: 2.1861 - acc: 0.4169\n",
      "Epoch 28/100\n",
      "379/379 [==============================] - 1s 2ms/step - loss: 2.1406 - acc: 0.4169\n",
      "Epoch 29/100\n",
      "379/379 [==============================] - 1s 2ms/step - loss: 2.0945 - acc: 0.4248\n",
      "Epoch 30/100\n",
      "379/379 [==============================] - 1s 2ms/step - loss: 2.0478 - acc: 0.4301\n",
      "Epoch 31/100\n",
      "379/379 [==============================] - 1s 2ms/step - loss: 2.0143 - acc: 0.4565\n",
      "Epoch 32/100\n",
      "379/379 [==============================] - 1s 2ms/step - loss: 1.9551 - acc: 0.4644\n",
      "Epoch 33/100\n",
      "379/379 [==============================] - 1s 2ms/step - loss: 1.9181 - acc: 0.4855\n",
      "Epoch 34/100\n",
      "379/379 [==============================] - 1s 2ms/step - loss: 1.8793 - acc: 0.4776\n",
      "Epoch 35/100\n",
      "379/379 [==============================] - 1s 2ms/step - loss: 1.8303 - acc: 0.4960\n",
      "Epoch 36/100\n",
      "379/379 [==============================] - 1s 2ms/step - loss: 1.7813 - acc: 0.5092\n",
      "Epoch 37/100\n",
      "379/379 [==============================] - 1s 2ms/step - loss: 1.7031 - acc: 0.5277\n",
      "Epoch 38/100\n",
      "379/379 [==============================] - 1s 2ms/step - loss: 1.6744 - acc: 0.5303\n",
      "Epoch 39/100\n",
      "379/379 [==============================] - 1s 2ms/step - loss: 1.6397 - acc: 0.5462\n",
      "Epoch 40/100\n",
      "379/379 [==============================] - 1s 2ms/step - loss: 1.6004 - acc: 0.5515\n",
      "Epoch 41/100\n",
      "379/379 [==============================] - 1s 2ms/step - loss: 1.5464 - acc: 0.5462\n",
      "Epoch 42/100\n",
      "379/379 [==============================] - 1s 2ms/step - loss: 1.5033 - acc: 0.5910\n",
      "Epoch 43/100\n",
      "379/379 [==============================] - 1s 2ms/step - loss: 1.4668 - acc: 0.6016\n",
      "Epoch 44/100\n",
      "379/379 [==============================] - 1s 2ms/step - loss: 1.4467 - acc: 0.6121\n",
      "Epoch 45/100\n",
      "379/379 [==============================] - 1s 2ms/step - loss: 1.4122 - acc: 0.6121\n",
      "Epoch 46/100\n",
      "379/379 [==============================] - 1s 3ms/step - loss: 1.3538 - acc: 0.6359\n",
      "Epoch 47/100\n",
      "379/379 [==============================] - 1s 3ms/step - loss: 1.3022 - acc: 0.6491\n",
      "Epoch 48/100\n",
      "379/379 [==============================] - 1s 3ms/step - loss: 1.2751 - acc: 0.6675\n",
      "Epoch 49/100\n",
      "379/379 [==============================] - 1s 3ms/step - loss: 1.2151 - acc: 0.6807\n",
      "Epoch 50/100\n",
      "379/379 [==============================] - 1s 2ms/step - loss: 1.1957 - acc: 0.7045\n",
      "Epoch 51/100\n",
      "379/379 [==============================] - 1s 2ms/step - loss: 1.1381 - acc: 0.6939\n",
      "Epoch 52/100\n",
      "379/379 [==============================] - 1s 2ms/step - loss: 1.1310 - acc: 0.7335\n",
      "Epoch 53/100\n",
      "379/379 [==============================] - 1s 2ms/step - loss: 1.0739 - acc: 0.7678\n",
      "Epoch 54/100\n",
      "379/379 [==============================] - 1s 2ms/step - loss: 1.0562 - acc: 0.7388\n",
      "Epoch 55/100\n",
      "379/379 [==============================] - 1s 2ms/step - loss: 1.0299 - acc: 0.7599\n",
      "Epoch 56/100\n",
      "379/379 [==============================] - 1s 2ms/step - loss: 0.9952 - acc: 0.7863\n",
      "Epoch 57/100\n",
      "379/379 [==============================] - 1s 2ms/step - loss: 0.9469 - acc: 0.8259\n",
      "Epoch 58/100\n",
      "379/379 [==============================] - 1s 2ms/step - loss: 0.9223 - acc: 0.8021\n",
      "Epoch 59/100\n",
      "379/379 [==============================] - 1s 2ms/step - loss: 0.8726 - acc: 0.8285\n",
      "Epoch 60/100\n",
      "379/379 [==============================] - 1s 3ms/step - loss: 0.8300 - acc: 0.8734\n",
      "Epoch 61/100\n",
      "379/379 [==============================] - 1s 2ms/step - loss: 0.8249 - acc: 0.8575\n",
      "Epoch 62/100\n",
      "379/379 [==============================] - 1s 3ms/step - loss: 0.7711 - acc: 0.8654\n",
      "Epoch 63/100\n",
      "379/379 [==============================] - 1s 2ms/step - loss: 0.7258 - acc: 0.8971\n",
      "Epoch 64/100\n",
      "379/379 [==============================] - 1s 2ms/step - loss: 0.7197 - acc: 0.8865\n",
      "Epoch 65/100\n",
      "379/379 [==============================] - 1s 2ms/step - loss: 0.7037 - acc: 0.8707\n",
      "Epoch 66/100\n",
      "379/379 [==============================] - 1s 2ms/step - loss: 0.6457 - acc: 0.9156\n",
      "Epoch 67/100\n",
      "379/379 [==============================] - 1s 2ms/step - loss: 0.6277 - acc: 0.9235\n",
      "Epoch 68/100\n",
      "379/379 [==============================] - 1s 2ms/step - loss: 0.6093 - acc: 0.9288\n",
      "Epoch 69/100\n",
      "379/379 [==============================] - 1s 3ms/step - loss: 0.5858 - acc: 0.9261\n",
      "Epoch 70/100\n",
      "379/379 [==============================] - 1s 2ms/step - loss: 0.5688 - acc: 0.9446\n",
      "Epoch 71/100\n",
      "379/379 [==============================] - 1s 2ms/step - loss: 0.5456 - acc: 0.9499\n",
      "Epoch 72/100\n",
      "379/379 [==============================] - 1s 2ms/step - loss: 0.5550 - acc: 0.9235\n",
      "Epoch 73/100\n",
      "379/379 [==============================] - 1s 3ms/step - loss: 0.5269 - acc: 0.9420\n",
      "Epoch 74/100\n",
      "379/379 [==============================] - 1s 2ms/step - loss: 0.4741 - acc: 0.9710\n",
      "Epoch 75/100\n",
      "379/379 [==============================] - 1s 2ms/step - loss: 0.4328 - acc: 0.9657\n",
      "Epoch 76/100\n",
      "379/379 [==============================] - 1s 2ms/step - loss: 0.4237 - acc: 0.9683\n",
      "Epoch 77/100\n",
      "379/379 [==============================] - 1s 2ms/step - loss: 0.4133 - acc: 0.9604\n",
      "Epoch 78/100\n",
      "379/379 [==============================] - 1s 2ms/step - loss: 0.3890 - acc: 0.9842\n",
      "Epoch 79/100\n",
      "379/379 [==============================] - 1s 2ms/step - loss: 0.3744 - acc: 0.9789\n",
      "Epoch 80/100\n",
      "379/379 [==============================] - 1s 2ms/step - loss: 0.3510 - acc: 0.9815\n",
      "Epoch 81/100\n",
      "379/379 [==============================] - 1s 2ms/step - loss: 0.3205 - acc: 0.9842\n",
      "Epoch 82/100\n",
      "379/379 [==============================] - 1s 2ms/step - loss: 0.3069 - acc: 0.9947\n",
      "Epoch 83/100\n",
      "379/379 [==============================] - 1s 2ms/step - loss: 0.2987 - acc: 0.9894\n",
      "Epoch 84/100\n",
      "379/379 [==============================] - 1s 3ms/step - loss: 0.2943 - acc: 0.9868\n",
      "Epoch 85/100\n"
     ]
    },
    {
     "name": "stdout",
     "output_type": "stream",
     "text": [
      "379/379 [==============================] - 1s 2ms/step - loss: 0.2812 - acc: 0.9947\n",
      "Epoch 86/100\n",
      "379/379 [==============================] - 1s 2ms/step - loss: 0.2779 - acc: 0.9921\n",
      "Epoch 87/100\n",
      "379/379 [==============================] - 1s 2ms/step - loss: 0.2739 - acc: 0.9947\n",
      "Epoch 88/100\n",
      "379/379 [==============================] - 1s 2ms/step - loss: 0.2402 - acc: 1.0000\n",
      "Epoch 89/100\n",
      "379/379 [==============================] - 1s 2ms/step - loss: 0.2260 - acc: 1.0000\n",
      "Epoch 90/100\n",
      "379/379 [==============================] - 1s 2ms/step - loss: 0.2032 - acc: 1.0000\n",
      "Epoch 91/100\n",
      "379/379 [==============================] - 1s 2ms/step - loss: 0.1920 - acc: 1.0000\n",
      "Epoch 92/100\n",
      "379/379 [==============================] - 1s 2ms/step - loss: 0.1810 - acc: 1.0000\n",
      "Epoch 93/100\n",
      "379/379 [==============================] - 1s 2ms/step - loss: 0.1713 - acc: 1.0000\n",
      "Epoch 94/100\n",
      "379/379 [==============================] - 1s 2ms/step - loss: 0.1641 - acc: 0.9974\n",
      "Epoch 95/100\n",
      "379/379 [==============================] - 1s 2ms/step - loss: 0.1548 - acc: 1.0000\n",
      "Epoch 96/100\n",
      "379/379 [==============================] - 1s 2ms/step - loss: 0.1521 - acc: 1.0000\n",
      "Epoch 97/100\n",
      "379/379 [==============================] - 1s 2ms/step - loss: 0.1444 - acc: 1.0000\n",
      "Epoch 98/100\n",
      "379/379 [==============================] - 1s 2ms/step - loss: 0.1382 - acc: 1.0000\n",
      "Epoch 99/100\n",
      "379/379 [==============================] - 1s 2ms/step - loss: 0.1457 - acc: 0.9947\n",
      "Epoch 100/100\n",
      "379/379 [==============================] - 1s 2ms/step - loss: 0.1339 - acc: 1.0000\n"
     ]
    },
    {
     "data": {
      "text/plain": [
       "<keras.callbacks.History at 0x1b0ec4f9da0>"
      ]
     },
     "execution_count": 11,
     "metadata": {},
     "output_type": "execute_result"
    }
   ],
   "source": [
    "model.fit(x_data,y_data,verbose=True,epochs=100,batch_size=20)"
   ]
  },
  {
   "cell_type": "code",
   "execution_count": 12,
   "metadata": {},
   "outputs": [],
   "source": [
    "test = to_categorical(integer_encode([\"Sing a song of sixpence,A pock\"],le),num_classes=vocabulary_size)"
   ]
  },
  {
   "cell_type": "code",
   "execution_count": 17,
   "metadata": {},
   "outputs": [
    {
     "name": "stdout",
     "output_type": "stream",
     "text": [
      "Next character is  ['e']\n"
     ]
    },
    {
     "name": "stderr",
     "output_type": "stream",
     "text": [
      "d:\\installed\\pycharmedu4.0.1\\anaconda\\envs\\deeplearning\\lib\\site-packages\\sklearn\\preprocessing\\label.py:151: DeprecationWarning: The truth value of an empty array is ambiguous. Returning False, but in future this will result in an error. Use `array.size > 0` to check that an array is not empty.\n",
      "  if diff:\n"
     ]
    }
   ],
   "source": [
    "print(\"Next character is \",le.inverse_transform(model.predict_classes(test)))"
   ]
  }
 ],
 "metadata": {
  "kernelspec": {
   "display_name": "Python 3",
   "language": "python",
   "name": "python3"
  },
  "language_info": {
   "codemirror_mode": {
    "name": "ipython",
    "version": 3
   },
   "file_extension": ".py",
   "mimetype": "text/x-python",
   "name": "python",
   "nbconvert_exporter": "python",
   "pygments_lexer": "ipython3",
   "version": "3.6.4"
  }
 },
 "nbformat": 4,
 "nbformat_minor": 2
}
